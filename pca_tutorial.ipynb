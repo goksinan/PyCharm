{
 "cells": [
  {
   "cell_type": "code",
   "execution_count": null,
   "metadata": {
    "collapsed": true
   },
   "outputs": [],
   "source": [
    "## IMPORT\n",
    "import numpy as np\n",
    "import matplotlib.pyplot as plt\n",
    "import plotly.plotly as py\n",
    "import plotly.graph_objs as go\n",
    "\n",
    "## START WITH GENERATING 3 SIGNALS\n",
    "signal = np.linspace(0,20,21)  # The backbone of all 3 signals will be the same\n",
    "\n",
    "x1 = signal + 3 + 4*np.floor(np.random.randn(len(signal)))\n",
    "x2 = signal + 4 + 4*np.floor(np.random.randn(len(signal)))\n",
    "x3 = signal + 5 + 4*np.floor(np.random.randn(len(signal)))\n",
    "\n",
    "## PLOT DATA POINTS IN 3-D. ALSO ADD BASIS VECTORS\n",
    "# Create a trace\n",
    "trace = go.Scatter(\n",
    "    x = x1,\n",
    "    y = x2,\n",
    "    mode = 'markers'\n",
    ")\n",
    "\n",
    "data = [trace]\n",
    "\n",
    "py.iplot(data, filename='basic-scatter')"
   ]
  }
 ],
 "metadata": {
  "kernelspec": {
   "display_name": "Python 2",
   "language": "python",
   "name": "python2"
  },
  "language_info": {
   "codemirror_mode": {
    "name": "ipython",
    "version": 2
   },
   "file_extension": ".py",
   "mimetype": "text/x-python",
   "name": "python",
   "nbconvert_exporter": "python",
   "pygments_lexer": "ipython2",
   "version": "2.7.6"
  }
 },
 "nbformat": 4,
 "nbformat_minor": 0
}
